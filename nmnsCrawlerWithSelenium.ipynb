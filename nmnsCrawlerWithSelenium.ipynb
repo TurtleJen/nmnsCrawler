{
 "cells": [
  {
   "cell_type": "code",
   "execution_count": 8,
   "metadata": {
    "collapsed": false
   },
   "outputs": [],
   "source": [
    "import selenium\n",
    "from selenium import webdriver\n",
    "import urllib.request\n",
    "import ssl"
   ]
  },
  {
   "cell_type": "code",
   "execution_count": 2,
   "metadata": {
    "collapsed": false
   },
   "outputs": [],
   "source": [
    "import time\n",
    "# 相簿效期只有3個月，須判斷是否仍在效期內。（上傳日期：2018-07-29）\n",
    "\n",
    "localtime = time.asctime( time.localtime(time.time()) )\n",
    "# time.time() : seconds since 12:00am, January 1, 1970\n",
    "# time.localtime() : show localtime in struct_time\n",
    "# time.asctime() : show time in \"Www Mmm dd hh:mm:ss yyyy\" formate\n",
    "\n",
    "dateStruct_time = time.strptime(\"2018-10-28 23:59:59\", \"%Y-%m-%d %H:%M:%S\")\n",
    "urlInvalidDate = time.asctime(dateStruct_time)"
   ]
  },
  {
   "cell_type": "code",
   "execution_count": 3,
   "metadata": {
    "collapsed": true
   },
   "outputs": [],
   "source": [
    "driver = webdriver.Chrome(r'D:\\pyLadies\\2018_0805_nmnsCrawler\\chromedriver.exe')\n",
    "\n",
    "urlDay1 = 'http://www.nmns.edu.tw/web/learn/feature/photo.htm?id=13'\n",
    "urlDay2 = 'http://www.nmns.edu.tw/web/learn/feature/photo.htm?id=14'\n",
    "urlDay3 = 'http://www.nmns.edu.tw/web/learn/feature/photo.htm?id=15'\n",
    "day = 1\n",
    "driver.get(urlDay1)"
   ]
  },
  {
   "cell_type": "code",
   "execution_count": 4,
   "metadata": {
    "collapsed": false
   },
   "outputs": [],
   "source": [
    "# 圖片網址可能所在之 xpath & attribute 對應\n",
    "xpath_attribute = {\n",
    "    '//div[@data-swiper-slide-index]':'style',\n",
    "    '//div[@data-swiper-slide-index]/img':'src'\n",
    "}\n",
    "\n",
    "# urls be get\n",
    "url_dict = {}"
   ]
  },
  {
   "cell_type": "code",
   "execution_count": 5,
   "metadata": {
    "collapsed": false
   },
   "outputs": [],
   "source": [
    "# method : get the clean URLs\n",
    "def findURL(xpath,attribute):\n",
    "    images = driver.find_elements_by_xpath(xpath)\n",
    "    index = 0 #圖片張數計算\n",
    "\n",
    "    for image in images:\n",
    "        tagContent = image.get_attribute(attribute)\n",
    "        \n",
    "        if tagContent.find('\\\"') != -1: tagContent = tagContent.split('\\\"')[-1]\n",
    "            # ↑split the string if it comes from attribute \"style\"\n",
    "\n",
    "        if tagContent.find(\"https://\") != -1:\n",
    "            index += 1\n",
    "            url = tagContent.split('\\\"')[0]\n",
    "            # ↑split to get clear url from attribute \"style\"\n",
    "            if url not in url_dict:\n",
    "                url_dict[url] = \"Day\" + str(day) + \"_\" + str(index).zfill(3) + \".jpg\"\n",
    "            else:\n",
    "                pass\n",
    "        else:\n",
    "            return False"
   ]
  },
  {
   "cell_type": "code",
   "execution_count": 10,
   "metadata": {
    "collapsed": true
   },
   "outputs": [
    {
     "name": "stdout",
     "output_type": "stream",
     "text": [
      "https://wwwadmin.nmns.edu.tw/upload/activity/1532917229RAyjbYoEoi.JPG Day1_031.jpg\n",
      "https://wwwadmin.nmns.edu.tw/upload/activity/1532917228AkmF6LMCLo.JPG Day1_017.jpg\n",
      "https://wwwadmin.nmns.edu.tw/upload/activity/1532917261l4tkjRHX7h.JPG Day1_051.jpg\n",
      "https://wwwadmin.nmns.edu.tw/upload/activity/1532917210miYF0O15vk.jpg Day1_008.jpg\n",
      "https://wwwadmin.nmns.edu.tw/upload/activity/1532917210zaPTMX2xfM.jpg Day1_007.jpg\n",
      "https://wwwadmin.nmns.edu.tw/upload/activity/1532917261R4hPXInWxb.jpg Day1_053.jpg\n",
      "https://wwwadmin.nmns.edu.tw/upload/activity/1532917277IAVNJNLl5z.JPG Day1_073.jpg\n",
      "https://wwwadmin.nmns.edu.tw/upload/activity/1532917210tVPcc3oBYQ.JPG Day1_002.jpg\n",
      "https://wwwadmin.nmns.edu.tw/upload/activity/1532917211ncKaBkdChv.JPG Day1_010.jpg\n",
      "https://wwwadmin.nmns.edu.tw/upload/activity/15329172283WqW1YQzFB.JPG Day1_026.jpg\n",
      "https://wwwadmin.nmns.edu.tw/upload/activity/1532917210pTYYPVA9Wz.jpg Day1_004.jpg\n",
      "https://wwwadmin.nmns.edu.tw/upload/activity/1532917261goKuy5PTED.JPG Day1_060.jpg\n",
      "https://wwwadmin.nmns.edu.tw/upload/activity/1532917244b4QfTEDfkc.JPG Day1_045.jpg\n",
      "https://wwwadmin.nmns.edu.tw/upload/activity/1532917261C8L6s3zAbn.JPG Day1_054.jpg\n",
      "https://wwwadmin.nmns.edu.tw/upload/activity/1532917294h6hjEgLbJI.JPG Day1_081.jpg\n",
      "https://wwwadmin.nmns.edu.tw/upload/activity/1532917277nA7kfVvaQu.JPG Day1_072.jpg\n",
      "https://wwwadmin.nmns.edu.tw/upload/activity/1532917244ZTThpG6Sge.jpg Day1_033.jpg\n",
      "https://wwwadmin.nmns.edu.tw/upload/activity/1532917228x1Tna0kRzo.JPG Day1_021.jpg\n",
      "https://wwwadmin.nmns.edu.tw/upload/activity/1532917228R8SCFFnWeX.JPG Day1_019.jpg\n",
      "https://wwwadmin.nmns.edu.tw/upload/activity/1532917277YxvUxHxYMg.JPG Day1_069.jpg\n",
      "https://wwwadmin.nmns.edu.tw/upload/activity/1532917228wO09B6J0QY.JPG Day1_018.jpg\n",
      "https://wwwadmin.nmns.edu.tw/upload/activity/1532917294dc3AfaYmUP.JPG Day1_083.jpg\n",
      "https://wwwadmin.nmns.edu.tw/upload/activity/1532917277Nq5ehHV8Pc.JPG Day1_067.jpg\n",
      "https://wwwadmin.nmns.edu.tw/upload/activity/1532917228eLB7RtDcbh.JPG Day1_028.jpg\n",
      "https://wwwadmin.nmns.edu.tw/upload/activity/1532917244FXUHdl0T3E.JPG Day1_046.jpg\n",
      "https://wwwadmin.nmns.edu.tw/upload/activity/15329172289GBxzSRL1G.JPG Day1_020.jpg\n",
      "https://wwwadmin.nmns.edu.tw/upload/activity/1532917260t2wFpTMRfv.JPG Day1_047.jpg\n",
      "https://wwwadmin.nmns.edu.tw/upload/activity/1532917244Htdwm8X7BE.JPG Day1_036.jpg\n",
      "https://wwwadmin.nmns.edu.tw/upload/activity/1532917211PBPTlQsCED.JPG Day1_016.jpg\n",
      "https://wwwadmin.nmns.edu.tw/upload/activity/1532917244t93jvICylG.JPG Day1_040.jpg\n",
      "https://wwwadmin.nmns.edu.tw/upload/activity/1532917277KvwxERMkFg.JPG Day1_070.jpg\n",
      "https://wwwadmin.nmns.edu.tw/upload/activity/1532917228eum5cJltLr.JPG Day1_025.jpg\n",
      "https://wwwadmin.nmns.edu.tw/upload/activity/1532917244IYw0FvbKAd.JPG Day1_038.jpg\n",
      "https://wwwadmin.nmns.edu.tw/upload/activity/1532917244AzM5RgWZzZ.JPG Day1_032.jpg\n",
      "https://wwwadmin.nmns.edu.tw/upload/activity/1532917277gYFfdT7Ia6.JPG Day1_076.jpg\n",
      "https://wwwadmin.nmns.edu.tw/upload/activity/1532917277rzkWZiLrat.JPG Day1_075.jpg\n",
      "https://wwwadmin.nmns.edu.tw/upload/activity/1532917228a45aflntjh.JPG Day1_027.jpg\n",
      "https://wwwadmin.nmns.edu.tw/upload/activity/1532917244ZkyLlOJ5Az.JPG Day1_035.jpg\n",
      "https://wwwadmin.nmns.edu.tw/upload/activity/1532917244Vt1b5sIxyl.jpg Day1_034.jpg\n",
      "https://wwwadmin.nmns.edu.tw/upload/activity/1532917277LmWNoeCKVe.jpg Day1_065.jpg\n",
      "https://wwwadmin.nmns.edu.tw/upload/activity/1532917261wwTdkXsf4U.jpg Day1_055.jpg\n",
      "https://wwwadmin.nmns.edu.tw/upload/activity/1532917261eBjRVbRakt.jpg Day1_056.jpg\n",
      "https://wwwadmin.nmns.edu.tw/upload/activity/1532917244zc2pK8U8oR.JPG Day1_042.jpg\n",
      "https://wwwadmin.nmns.edu.tw/upload/activity/1532917294TVVg8lh8Cy.JPG Day1_077.jpg\n",
      "https://wwwadmin.nmns.edu.tw/upload/activity/1532917277h44DRhjJ9l.JPG Day1_074.jpg\n",
      "https://wwwadmin.nmns.edu.tw/upload/activity/1532917294IkxkL954rK.JPG Day1_082.jpg\n",
      "https://wwwadmin.nmns.edu.tw/upload/activity/15329172444ZJvN59sPD.JPG Day1_037.jpg\n",
      "https://wwwadmin.nmns.edu.tw/upload/activity/1532917244Wbo1BSN5Bu.JPG Day1_044.jpg\n",
      "https://wwwadmin.nmns.edu.tw/upload/activity/1532917244K9rcicg49T.JPG Day1_041.jpg\n",
      "https://wwwadmin.nmns.edu.tw/upload/activity/1532917244jEpuZ1ABdp.JPG Day1_039.jpg\n",
      "https://wwwadmin.nmns.edu.tw/upload/activity/1532917244WlUbWgEYzA.JPG Day1_043.jpg\n",
      "https://wwwadmin.nmns.edu.tw/upload/activity/1532917294Om0IUH2CWq.JPG Day1_078.jpg\n",
      "https://wwwadmin.nmns.edu.tw/upload/activity/15329172108zAOoLXDnl.jpg Day1_003.jpg\n",
      "https://wwwadmin.nmns.edu.tw/upload/activity/1532917261IJKH6LpPU3.JPG Day1_052.jpg\n",
      "https://wwwadmin.nmns.edu.tw/upload/activity/1532917261i95aDeQOr8.JPG Day1_059.jpg\n",
      "https://wwwadmin.nmns.edu.tw/upload/activity/1532917294LCHkF8XFMx.JPG Day1_001.jpg\n",
      "https://wwwadmin.nmns.edu.tw/upload/activity/1532917228jT1ZfugYMb.JPG Day1_023.jpg\n",
      "https://wwwadmin.nmns.edu.tw/upload/activity/15329172779a3QfULCl5.JPG Day1_066.jpg\n",
      "https://wwwadmin.nmns.edu.tw/upload/activity/1532917294fmcbGkClwh.JPG Day1_079.jpg\n",
      "https://wwwadmin.nmns.edu.tw/upload/activity/1532917261Rudqm8zSaO.JPG Day1_050.jpg\n",
      "https://wwwadmin.nmns.edu.tw/upload/activity/1532917210UweTrN8xGH.jpg Day1_005.jpg\n",
      "https://wwwadmin.nmns.edu.tw/upload/activity/1532917210cT0P6em6P6.JPG Day1_006.jpg\n",
      "https://wwwadmin.nmns.edu.tw/upload/activity/1532917294CJ0IRR6Ff9.JPG Day1_080.jpg\n",
      "https://wwwadmin.nmns.edu.tw/upload/activity/15329172942g3Ca5mCUf.JPG Day1_084.jpg\n",
      "https://wwwadmin.nmns.edu.tw/upload/activity/1532917211K7NijT9jAC.JPG Day1_009.jpg\n",
      "https://wwwadmin.nmns.edu.tw/upload/activity/15329172288arD9zb2Ph.JPG Day1_024.jpg\n",
      "https://wwwadmin.nmns.edu.tw/upload/activity/1532917277DUY1JeueZD.JPG Day1_062.jpg\n",
      "https://wwwadmin.nmns.edu.tw/upload/activity/1532917294QMuPP1RyV9.JPG Day1_085.jpg\n",
      "https://wwwadmin.nmns.edu.tw/upload/activity/15329172118lAUMjYKow.JPG Day1_013.jpg\n",
      "https://wwwadmin.nmns.edu.tw/upload/activity/1532917211ewGnq5Qeos.JPG Day1_012.jpg\n",
      "https://wwwadmin.nmns.edu.tw/upload/activity/15329172770IXpPeG9Tz.jpg Day1_068.jpg\n",
      "https://wwwadmin.nmns.edu.tw/upload/activity/1532917228p0nSWgVUzp.JPG Day1_022.jpg\n",
      "https://wwwadmin.nmns.edu.tw/upload/activity/1532917211bBTZsVMFkB.JPG Day1_011.jpg\n",
      "https://wwwadmin.nmns.edu.tw/upload/activity/1532917261SRXFDxpDRs.JPG Day1_061.jpg\n",
      "https://wwwadmin.nmns.edu.tw/upload/activity/15329172294fC7YZm2GA.JPG Day1_030.jpg\n",
      "https://wwwadmin.nmns.edu.tw/upload/activity/1532917261QIxq7ZGB7B.JPG Day1_049.jpg\n",
      "https://wwwadmin.nmns.edu.tw/upload/activity/15329172285zaEadjB9W.JPG Day1_029.jpg\n",
      "https://wwwadmin.nmns.edu.tw/upload/activity/1532917261rSeEsNa53y.JPG Day1_057.jpg\n",
      "https://wwwadmin.nmns.edu.tw/upload/activity/1532917261QSZ2Zr3OJw.JPG Day1_048.jpg\n",
      "https://wwwadmin.nmns.edu.tw/upload/activity/1532917211bjBuvlz1DP.JPG Day1_015.jpg\n",
      "https://wwwadmin.nmns.edu.tw/upload/activity/1532917211VsfwplWGXn.JPG Day1_014.jpg\n",
      "https://wwwadmin.nmns.edu.tw/upload/activity/1532917277FDDj4NsChu.JPG Day1_063.jpg\n",
      "https://wwwadmin.nmns.edu.tw/upload/activity/1532917261fMiIBkf6wW.JPG Day1_058.jpg\n",
      "https://wwwadmin.nmns.edu.tw/upload/activity/1532917277Y7GN9lZ708.jpg Day1_071.jpg\n",
      "https://wwwadmin.nmns.edu.tw/upload/activity/1532917277gK16a0oRHf.jpg Day1_064.jpg\n",
      "注意：「 //div[@data-swiper-slide-index]  +  style 」的組合失敗。\n"
     ]
    }
   ],
   "source": [
    "# main\n",
    "if localtime < urlInvalidDate:\n",
    "    print(\"相簿已逾期！請手動確認檔案是否仍存在。\")\n",
    "else: # 找網址    \n",
    "    for xpath,attribute in  xpath_attribute.items():\n",
    "        if findURL(xpath,attribute) != False:\n",
    "#             print(\"取得網址！\")\n",
    "            for key,value in url_dict.items():\n",
    "                print(key,value)\n",
    "                ssl._create_default_https_context = ssl._create_unverified_context\n",
    "                    # ↑ to pass the SSL certificate verify\n",
    "                resource = urllib.request.urlopen(key)\n",
    "                output = open(value,\"wb\") # write binary\n",
    "                output.write(resource.read())\n",
    "                output.close()\n",
    "        else:\n",
    "            print( \"注意：「\", xpath, \" + \", attribute, \"」的組合失敗。\" )"
   ]
  },
  {
   "cell_type": "code",
   "execution_count": 11,
   "metadata": {
    "collapsed": false
   },
   "outputs": [],
   "source": [
    "driver.close()"
   ]
  },
  {
   "cell_type": "markdown",
   "metadata": {},
   "source": [
    "url = \"http://www.nmns.edu.tw/web/learn/feature/photo.htm?id=13\" \n",
    "\n",
    "ctrl + /\n"
   ]
  }
 ],
 "metadata": {
  "anaconda-cloud": {},
  "kernelspec": {
   "display_name": "Python [default]",
   "language": "python",
   "name": "python3"
  },
  "language_info": {
   "codemirror_mode": {
    "name": "ipython",
    "version": 3
   },
   "file_extension": ".py",
   "mimetype": "text/x-python",
   "name": "python",
   "nbconvert_exporter": "python",
   "pygments_lexer": "ipython3",
   "version": "3.5.2"
  }
 },
 "nbformat": 4,
 "nbformat_minor": 1
}
