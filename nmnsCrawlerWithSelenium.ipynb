{
 "cells": [
  {
   "cell_type": "code",
   "execution_count": null,
   "metadata": {
    "collapsed": false
   },
   "outputs": [],
   "source": [
    "import selenium\n",
    "from selenium import webdriver"
   ]
  },
  {
   "cell_type": "code",
   "execution_count": null,
   "metadata": {
    "collapsed": false
   },
   "outputs": [],
   "source": [
    "import time\n",
    "# 相簿效期只有3個月，須判斷是否仍在效期內。（上傳日期：2018-07-29）\n",
    "\n",
    "localtime = time.asctime( time.localtime(time.time()) )\n",
    "# time.time() : seconds since 12:00am, January 1, 1970\n",
    "# time.localtime() : show localtime in struct_time\n",
    "# time.asctime() : show time in \"Www Mmm dd hh:mm:ss yyyy\" formate\n",
    "\n",
    "dateStruct_time = time.strptime(\"2018-10-28 23:59:59\", \"%Y-%m-%d %H:%M:%S\")\n",
    "urlInvalidDate = time.asctime(dateStruct_time)"
   ]
  },
  {
   "cell_type": "code",
   "execution_count": null,
   "metadata": {
    "collapsed": true
   },
   "outputs": [],
   "source": [
    "driver = webdriver.Chrome(r'D:\\pyLadies\\2018_0805_nmnsCrawler\\chromedriver.exe')\n",
    "\n",
    "urlDay1 = 'http://www.nmns.edu.tw/web/learn/feature/photo.htm?id=13'\n",
    "urlDay2 = 'http://www.nmns.edu.tw/web/learn/feature/photo.htm?id=14'\n",
    "urlDay3 = 'http://www.nmns.edu.tw/web/learn/feature/photo.htm?id=15'\n",
    "\n",
    "driver.get(urlDay1)"
   ]
  },
  {
   "cell_type": "code",
   "execution_count": null,
   "metadata": {
    "collapsed": false
   },
   "outputs": [],
   "source": [
    "# 圖片網址可能所在之 xpath & attribute 對應\n",
    "xpath_attribute = {\n",
    "    '//div[@data-swiper-slide-index]':'style',\n",
    "    '//div[@data-swiper-slide-index]/img':'src'\n",
    "}"
   ]
  },
  {
   "cell_type": "code",
   "execution_count": null,
   "metadata": {
    "collapsed": true
   },
   "outputs": [],
   "source": [
    "# method : get the clean URLs\n",
    "def findURL(xpath,attribute):\n",
    "    images = driver.find_elements_by_xpath(xpath)\n",
    "    index = 0 #圖片張數計算\n",
    "\n",
    "    for image in images:\n",
    "        tagContent = image.get_attribute(attribute)\n",
    "        \n",
    "        if tagContent.find('\\\"') != -1 : tagContent = tagContent.split('\\\"')[-1]\n",
    "\n",
    "        if tagContent.find(\"https://\") != -1 :\n",
    "            index += 1\n",
    "            url = tagContent.split('\\\"')[0]\n",
    "            print(url, \"no.\",index)        \n",
    "        else:\n",
    "            return False"
   ]
  },
  {
   "cell_type": "code",
   "execution_count": null,
   "metadata": {
    "collapsed": false
   },
   "outputs": [],
   "source": [
    "# main\n",
    "if localtime < urlInvalidDate :\n",
    "    print(\"相簿已逾期！請手動確認檔案是否仍存在。\")\n",
    "else : # 找網址    \n",
    "    for xpath,attribute in  xpath_attribute.items():\n",
    "        if findURL(xpath,attribute) != False:\n",
    "            print(\"取得網址！\")\n",
    "        else :\n",
    "            print( \"注意：「\", xpath, \" + \", attribute, \"」的組合失敗。\" )"
   ]
  },
  {
   "cell_type": "code",
   "execution_count": null,
   "metadata": {
    "collapsed": false
   },
   "outputs": [],
   "source": [
    "driver.close()"
   ]
  },
  {
   "cell_type": "markdown",
   "metadata": {},
   "source": [
    "url = \"http://www.nmns.edu.tw/web/learn/feature/photo.htm?id=13\" \n",
    "\n",
    "ctrl + /\n"
   ]
  }
 ],
 "metadata": {
  "anaconda-cloud": {},
  "kernelspec": {
   "display_name": "Python [default]",
   "language": "python",
   "name": "python3"
  },
  "language_info": {
   "codemirror_mode": {
    "name": "ipython",
    "version": 3
   },
   "file_extension": ".py",
   "mimetype": "text/x-python",
   "name": "python",
   "nbconvert_exporter": "python",
   "pygments_lexer": "ipython3",
   "version": "3.5.2"
  }
 },
 "nbformat": 4,
 "nbformat_minor": 1
}
