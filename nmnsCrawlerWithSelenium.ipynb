{
 "cells": [
  {
   "cell_type": "code",
   "execution_count": 16,
   "metadata": {
    "collapsed": false
   },
   "outputs": [],
   "source": [
    "import selenium\n",
    "from selenium import webdriver\n",
    "from lxml import etree"
   ]
  },
  {
   "cell_type": "code",
   "execution_count": 17,
   "metadata": {
    "collapsed": true
   },
   "outputs": [],
   "source": [
    "driver = webdriver.Chrome(r'D:\\pyLadies\\2018_0805_nmnsCrawler\\chromedriver.exe')\n",
    "urlD1 = 'http://www.nmns.edu.tw/web/learn/feature/photo.htm?id=13'\n",
    "driver.get(urlD1)"
   ]
  },
  {
   "cell_type": "code",
   "execution_count": 33,
   "metadata": {
    "collapsed": false
   },
   "outputs": [],
   "source": [
    "def styleHasURL():\n",
    "    xpath = '//div[@data-swiper-slide-index]'\n",
    "    images = driver.find_elements_by_xpath(xpath)\n",
    "    index = 0 #圖片張數計算\n",
    "\n",
    "    for backgroundImage in images:\n",
    "        styleContent = backgroundImage.get_attribute('style')\n",
    "\n",
    "        if styleContent.find(\"https://\") != -1 :\n",
    "            index += 1\n",
    "            url = styleContent.split('\\\"')[0]\n",
    "            print(styleContent,url, \"no.\",index)        \n",
    "        else:\n",
    "            print(\"style do not conents any URL!\")  "
   ]
  },
  {
   "cell_type": "code",
   "execution_count": 34,
   "metadata": {
    "collapsed": false,
    "scrolled": true
   },
   "outputs": [],
   "source": [
    "def divHasImg():\n",
    "    xpath = '//div[@data-swiper-slide-index]/img'\n",
    "    images = driver.find_elements_by_xpath(xpath)\n",
    "    index = 0 #圖片張數計算\n",
    "\n",
    "    for img in images:\n",
    "        imgContent = img.get_attribute('src')\n",
    "\n",
    "        if imgContent.find(\"https://\") != -1 :\n",
    "            index += 1\n",
    "            print(imgContent, \"no.\",index)        \n",
    "        else:\n",
    "            print(\"image URL do not find!\")"
   ]
  },
  {
   "cell_type": "code",
   "execution_count": 32,
   "metadata": {
    "collapsed": false
   },
   "outputs": [],
   "source": [
    "styleHasURL()\n",
    "divHasImg()\n",
    "\n",
    "driver.close()"
   ]
  },
  {
   "cell_type": "markdown",
   "metadata": {},
   "source": [
    "url = \"http://www.nmns.edu.tw/web/learn/feature/photo.htm?id=13\" \n",
    "\n",
    "ctrl + /\n"
   ]
  }
 ],
 "metadata": {
  "anaconda-cloud": {},
  "kernelspec": {
   "display_name": "Python [default]",
   "language": "python",
   "name": "python3"
  },
  "language_info": {
   "codemirror_mode": {
    "name": "ipython",
    "version": 3
   },
   "file_extension": ".py",
   "mimetype": "text/x-python",
   "name": "python",
   "nbconvert_exporter": "python",
   "pygments_lexer": "ipython3",
   "version": "3.5.2"
  }
 },
 "nbformat": 4,
 "nbformat_minor": 1
}
