{
 "cells": [
  {
   "cell_type": "markdown",
   "metadata": {},
   "source": [
    "### Make a Crawler to get the Pictures form NMNS with Python3\n",
    "http://www.nmns.edu.tw/web/learn/feature/\n",
    "- [目標相簿 - goal album 01](http://www.nmns.edu.tw/web/learn/feature/photo.htm?id=13)\n",
    "- [目標相簿 - goal album 02](http://www.nmns.edu.tw/web/learn/feature/photo.htm?id=14)\n",
    "- [目標相簿 - goal album 03](http://www.nmns.edu.tw/web/learn/feature/photo.htm?id=15)"
   ]
  },
  {
   "cell_type": "markdown",
   "metadata": {},
   "source": [
    "environment :  \n",
    "Python 3.5.2 |Anaconda 4.2.0 (64-bit)| (default, Jul  5 2016, 11:41:13) [MSC v.1900 64 bit (AMD64)] on win32  \n",
    "\n",
    "### 1. 建立環境、匯入所需模組 / set environment , import module"
   ]
  },
  {
   "cell_type": "code",
   "execution_count": null,
   "metadata": {
    "collapsed": false
   },
   "outputs": [],
   "source": [
    "import selenium\n",
    "from selenium import webdriver\n",
    "import urllib.request\n",
    "import ssl"
   ]
  },
  {
   "cell_type": "markdown",
   "metadata": {},
   "source": [
    "### 2. 製作時間檢查機制 / make a time check\n",
    "相簿效期只有3個月，故須判斷是否仍在效期內。（上傳日期：2018-07-29）  \n",
    "the album is alive for 3 months , set urlInvalidDate to check.  \n",
    "album upload date: 2018-07-29\n",
    "\n",
    "----\n",
    "##### note\n",
    "- [time module](https://docs.python.org/3/library/time.html)\n",
    "[中文教學](http://www.runoob.com/python/python-date-time.html)\n",
    "    - time.time() : seconds since 12:00am, January 1, 1970\n",
    "    - time.localtime() : show local current time in struct_time\n",
    "    - time.asctime() : show time in \"Www Mmm dd hh:mm:ss yyyy\" format  \n",
    "- [datetime module](https://docs.python.org/3/library/datetime.html#module-datetime)\n",
    "[中文教學01](https://www.cnblogs.com/feeland/p/4551054.html)\n",
    "[中文教學02](https://blog.csdn.net/mathcompfrac/article/details/76229385)\n",
    "[中文教學03](http://blog.51cto.com/leejia/1577662)\n",
    "    - datetime.datetime.today() : show local current time in datetime\n",
    "    - datetime.datetime.strptime() : format string to datetime\n",
    "    - (date)replace() : replace date with given values"
   ]
  },
  {
   "cell_type": "code",
   "execution_count": null,
   "metadata": {
    "collapsed": false
   },
   "outputs": [],
   "source": [
    "import datetime\n",
    "\n",
    "uploadDate = \"2018-07-29\"\n",
    "aliveMonth = 3\n",
    "localtime = datetime.datetime.today()\n",
    "\n",
    "uploadDatetime = datetime.datetime.strptime(uploadDate,\"%Y-%m-%d\")\n",
    "replaceMonth = uploadDatetime.month + aliveMonth\n",
    "\n",
    "urlInvalidDate = uploadDatetime.replace(month = replaceMonth)\n",
    "print(localtime,type(localtime))\n",
    "print(urlInvalidDate,type(urlInvalidDate))"
   ]
  },
  {
   "cell_type": "markdown",
   "metadata": {},
   "source": [
    "### 3. 分析網頁結構 / analysis the HTML structure\n",
    "依據網頁結構，發現2種圖片網址可能所在之 xpath & attribute 對應：  \n",
    "two tpyes of the HTML structure.  \n",
    "\n",
    "type 01\n",
    "<code>\n",
    "    < div   \n",
    "        class=\"swiper-slide\"  \n",
    "        style=\"  \n",
    "            background-image: url(\"\n",
    "                https://wwwadmin.nmns.edu.tw/upload/activity/1532917261goKuy5PTED.JPG\");  \n",
    "            width: 767px;\"  \n",
    "        data-swiper-slide-index=\"58\">  \n",
    "    < /div>\n",
    "</code>\n",
    "\n",
    "type 02\n",
    "<code>\n",
    "    < div \n",
    "         class=\"swiper-slide\" \n",
    "         style=\"text-align: center; width: 669px;\" \n",
    "         data-swiper-slide-index=\"9\">\n",
    "         < img\n",
    "             src=\"https://wwwadmin.nmns.edu.tw/upload/activity/1532917211bBTZsVMFkB.JPG\" \n",
    "             height=\"100%\" \n",
    "             style=\"max-width:100%;\">\n",
    "    < /div>\n",
    "</code>"
   ]
  },
  {
   "cell_type": "code",
   "execution_count": null,
   "metadata": {
    "collapsed": false
   },
   "outputs": [],
   "source": [
    "xpath_attribute = {\n",
    "    '//div[@data-swiper-slide-index]':'style',\n",
    "    '//div[@data-swiper-slide-index]/img':'src'\n",
    "}\n",
    "\n",
    "# urls to be get\n",
    "url_dict = {}"
   ]
  },
  {
   "cell_type": "markdown",
   "metadata": {},
   "source": [
    "### 4. 開啟瀏覽器、設定抓取天數 / open the browser , set how many album to crawl through\n",
    "* the albums are separated by days"
   ]
  },
  {
   "cell_type": "code",
   "execution_count": null,
   "metadata": {
    "collapsed": true
   },
   "outputs": [],
   "source": [
    "driver = webdriver.Chrome(r'D:\\pyLadies\\2018_0805_nmnsCrawler\\chromedriver.exe')\n",
    "totalDays = 3"
   ]
  },
  {
   "cell_type": "markdown",
   "metadata": {},
   "source": [
    "### 5. 自行撰寫方法「findURL()」以取得單一相片網址 /  \n",
    "### make a method \"findURL()\" to get the URLs of the pictures\n",
    "1. 分別以觀察到的各xpath+attribute組合檢查，並計算圖片張數以製作檔名。  \n",
    "    check with the set \"xpath+attribute\", and set a counter for the file name\n",
    "2. to get the URL of the images\n",
    "\t1. 以「tagContent」取出特定標籤特定屬性內全部的屬性值。  \n",
    "       get all attribute contents of the certain attribute, put into \"tagContent\"\n",
    "    2. 處理style屬性值。 / clean the \"tagContent\" from the attribute \"style\"  \n",
    "       藉由實際觀察得知，如果網址在style的屬性值裡，則取出全部屬性值會出現以「\\」分隔的字串資料，而且網址是最後一個屬性值。故再將tagContent以「\\」分割，並取出網址部份。  \n",
    "       content of attribute \"style\" is seperate with \"\\\", and the url part is the last part, update the \"tagContent\"\n",
    "    3. 接著確認目前的「tagContent」是否成功包含到網址段。  \n",
    "       make sure there is the url in the \"tagContent\"  \n",
    "       若「否」則回傳False；  \n",
    "       if not, return False  \n",
    "       「是」則取網址到準備好的url_dict{}檢查網址是否有重複。  \n",
    "       if there is the url, check the url in url_dict{} to avoid a duplication  \n",
    "       未重複就對圖片張數加一，並儲存圖片網址、製作對應檔名。  \n",
    "       count for the picture, and fill the url_dict{} with the url as a key,the file name as a value\n",
    "\n",
    "----\n",
    "##### note\n",
    "- string.find(value, start, end) : return start index of value in the string, or return \"-1\" if there is no match value.\n",
    "    - [w3schools](https://www.w3schools.com/python/ref_string_find.asp)\n",
    "    - [菜鳥教程](http://www.runoob.com/python3/python3-string-find.html)"
   ]
  },
  {
   "cell_type": "code",
   "execution_count": null,
   "metadata": {
    "collapsed": false
   },
   "outputs": [],
   "source": [
    "# method findURL() : get the clean URLs, and put in url_dict{}\n",
    "def findURL(xpath,attribute):\n",
    "    images = driver.find_elements_by_xpath(xpath)\n",
    "    picNumber = 0 # 圖片張數計算 picture number to count how many pictures in this album\n",
    "\n",
    "    for image in images:\n",
    "        tagContent = image.get_attribute(attribute)\n",
    "        \n",
    "        if tagContent.find('\\\"') == -1: pass              \n",
    "        else: \n",
    "            tagContent = tagContent.split('\\\"')[-1]\n",
    "            # ↑split the string if it comes from attribute \"style\" \n",
    "\n",
    "        if tagContent.find(\"https://\") == -1: return False            \n",
    "        else:\n",
    "            url = tagContent.split('\\\"')[0]\n",
    "            # ↑split to get clear url from attribute \"style\" ????????redundant????\n",
    "            if url in url_dict: pass\n",
    "            else: \n",
    "                picNumber += 1\n",
    "                url_dict[url] = \"Day\" + str(day) + \"_\" + str(picNumber).zfill(3) + \".jpg\"\n",
    "            "
   ]
  },
  {
   "cell_type": "markdown",
   "metadata": {},
   "source": [
    "### 6. 主程式 / main block\n",
    "1. 確認程式執行時間相簿是否仍可存取。時間比較：未來 > 現在 > 過去  \n",
    "   check the InvalidDate to make sure the album is still avalible  \n",
    "   *future is larger than now, now is larger than past*\n",
    "2. 確認尚可存取後 / if the album is still avalible\n",
    "    1. 以抓取天數（totalDays）迴圈執行相簿抓取工作（findURL()）。  \n",
    "        1. 依觀察出的規律製作抓取網頁網址，並取得網頁內容。  \n",
    "            for example:\n",
    "            url of day 1 = http://www.nmns.edu.tw/web/learn/feature/photo.htm?id=13\n",
    "            url of day 2 = http://www.nmns.edu.tw/web/learn/feature/photo.htm?id=14\n",
    "            conclusion: id = 12 + day number\n",
    "\n",
    "        2. 依觀察出的HTML結構分別試驗抓取工作，取得圖片網址與檔名對應。\n",
    "    2. 避開SSL安全檢核下載檔案。  \n",
    "       download the images as \".jpg\" without the SSL certificate verify\n",
    "\n",
    "----\n",
    "##### note\n",
    "- SSL：安全通訊協定 Secure Sockets Layer"
   ]
  },
  {
   "cell_type": "code",
   "execution_count": null,
   "metadata": {
    "collapsed": false
   },
   "outputs": [],
   "source": [
    "# main\n",
    "if localtime > urlInvalidDate: # check the date\n",
    "    print(\"相簿已逾期！請手動確認檔案是否仍存在。\")\n",
    "else:\n",
    "    for day in range(1,totalDays+1): # get the url of the day\n",
    "        urlDay = 'http://www.nmns.edu.tw/web/learn/feature/photo.htm?id={idNo}'.format(idNo=12+day)\n",
    "        driver.get(urlDay)\n",
    "\n",
    "        for xpath,attribute in  xpath_attribute.items(): # get the url from xpath\n",
    "            if findURL(xpath,attribute) != False:\n",
    "                print(\"Day\",day,\"取得網址！\",\"目前字典長度:\",len(url_dict))\n",
    "            else:\n",
    "                print( \"注意：「\", xpath, \" + \", attribute, \"」的組合失敗。\" )\n",
    "                  \n",
    "    for key,value in url_dict.items(): #download images from the url,and save them with the file names\n",
    "        ssl._create_default_https_context = ssl._create_unverified_context\n",
    "            # ↑ to pass the SSL certificate verify\n",
    "        resource = urllib.request.urlopen(key)\n",
    "        output = open(value,\"wb\") # write binary\n",
    "        output.write(resource.read())\n",
    "        output.close()\n",
    "    print(\"下載結束\")"
   ]
  },
  {
   "cell_type": "markdown",
   "metadata": {},
   "source": [
    "＊output of main blolck\n",
    "----\n",
    "\n",
    "注意：「 //div[@data-swiper-slide-index]  +  style 」的組合失敗。  \n",
    "Day 1 取得網址！ 目前字典長度: 85  \n",
    "注意：「 //div[@data-swiper-slide-index]  +  style 」的組合失敗。  \n",
    "Day 2 取得網址！ 目前字典長度: 363  \n",
    "注意：「 //div[@data-swiper-slide-index]  +  style 」的組合失敗。  \n",
    "Day 3 取得網址！ 目前字典長度: 475  \n",
    "下載結束"
   ]
  },
  {
   "cell_type": "markdown",
   "metadata": {},
   "source": [
    "### 7. 關閉瀏覽器 / close the browser"
   ]
  },
  {
   "cell_type": "code",
   "execution_count": null,
   "metadata": {
    "collapsed": false
   },
   "outputs": [],
   "source": [
    "driver.close()"
   ]
  }
 ],
 "metadata": {
  "anaconda-cloud": {},
  "kernelspec": {
   "display_name": "Python [default]",
   "language": "python",
   "name": "python3"
  },
  "language_info": {
   "codemirror_mode": {
    "name": "ipython",
    "version": 3
   },
   "file_extension": ".py",
   "mimetype": "text/x-python",
   "name": "python",
   "nbconvert_exporter": "python",
   "pygments_lexer": "ipython3",
   "version": "3.5.2"
  }
 },
 "nbformat": 4,
 "nbformat_minor": 1
}
