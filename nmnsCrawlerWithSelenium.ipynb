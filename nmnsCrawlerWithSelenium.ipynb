{
 "cells": [
  {
   "cell_type": "markdown",
   "metadata": {},
   "source": [
    "### Make a Crawler to get the Pictures form NMNS with Python3\n",
    "http://www.nmns.edu.tw/web/learn/feature/\n",
    "- [目標相簿 - goal album 01](http://www.nmns.edu.tw/web/learn/feature/photo.htm?id=13)\n",
    "- [目標相簿 - goal album 02](http://www.nmns.edu.tw/web/learn/feature/photo.htm?id=14)\n",
    "- [目標相簿 - goal album 03](http://www.nmns.edu.tw/web/learn/feature/photo.htm?id=15)"
   ]
  },
  {
   "cell_type": "code",
   "execution_count": null,
   "metadata": {
    "collapsed": false
   },
   "outputs": [],
   "source": [
    "import selenium\n",
    "from selenium import webdriver\n",
    "import urllib.request\n",
    "import ssl"
   ]
  },
  {
   "cell_type": "markdown",
   "metadata": {},
   "source": [
    "相簿效期只有3個月，故須判斷是否仍在效期內。（上傳日期：2018-07-29） \n",
    "the album is alive for 3 months , set urlInvalidDate to check.  \n",
    "album upload date: 2018-07-29\n",
    "\n",
    "----\n",
    "#### note\n",
    "- [time module](https://docs.python.org/3/library/time.html)\n",
    "[中文教學](http://www.runoob.com/python/python-date-time.html)\n",
    "    - time.time() : seconds since 12:00am, January 1, 1970\n",
    "    - time.localtime() : show local current time in struct_time\n",
    "    - time.asctime() : show time in \"Www Mmm dd hh:mm:ss yyyy\" format  \n",
    "- [datetime module](https://docs.python.org/3/library/datetime.html#module-datetime)\n",
    "[中文教學01](https://www.cnblogs.com/feeland/p/4551054.html)\n",
    "[中文教學02](https://blog.csdn.net/mathcompfrac/article/details/76229385)\n",
    "[中文教學03](http://blog.51cto.com/leejia/1577662)\n",
    "    - date.today() : show local current time in datetime\n",
    "    - datetime.datetime.strptime() : format string to datetime\n",
    "    - (date)replace() : replace date with given values"
   ]
  },
  {
   "cell_type": "code",
   "execution_count": 3,
   "metadata": {
    "collapsed": false
   },
   "outputs": [],
   "source": [
    "import datetime\n",
    "from datetime import date\n",
    "\n",
    "uploadDate = \"2018-07-29\"\n",
    "aliveMonth = 3\n",
    "localtime = date.today()\n",
    "\n",
    "uploadDatetime = datetime.datetime.strptime(uploadDate,\"%Y-%m-%d\")\n",
    "replaceMonth = uploadDatetime.month + aliveMonth\n",
    "urlInvalidDate = uploadDatetime.replace(month = replaceMonth)"
   ]
  },
  {
   "cell_type": "markdown",
   "metadata": {},
   "source": [
    "依據網頁結構，發現2種圖片網址可能所在之 xpath & attribute 對應：  \n",
    "two tpyes of the HTML structure.  \n",
    "\n",
    "type 01\n",
    "<code>\n",
    "    < div   \n",
    "        class=\"swiper-slide\"  \n",
    "        style=\"  \n",
    "            background-image: url(\"\n",
    "                https://wwwadmin.nmns.edu.tw/upload/activity/1532917261goKuy5PTED.JPG\");  \n",
    "            width: 767px;\"  \n",
    "        data-swiper-slide-index=\"58\">  \n",
    "    < /div>\n",
    "</code>\n",
    "\n",
    "type 02\n",
    "<code>\n",
    "    < div \n",
    "         class=\"swiper-slide\" \n",
    "         style=\"text-align: center; width: 669px;\" \n",
    "         data-swiper-slide-index=\"9\">\n",
    "         < img\n",
    "             src=\"https://wwwadmin.nmns.edu.tw/upload/activity/1532917211bBTZsVMFkB.JPG\" \n",
    "             height=\"100%\" \n",
    "             style=\"max-width:100%;\">\n",
    "    < /div>\n",
    "</code>"
   ]
  },
  {
   "cell_type": "code",
   "execution_count": null,
   "metadata": {
    "collapsed": false
   },
   "outputs": [],
   "source": [
    "xpath_attribute = {\n",
    "    '//div[@data-swiper-slide-index]':'style',\n",
    "    '//div[@data-swiper-slide-index]/img':'src'\n",
    "}\n",
    "\n",
    "# urls to be get\n",
    "url_dict = {}"
   ]
  },
  {
   "cell_type": "markdown",
   "metadata": {},
   "source": []
  },
  {
   "cell_type": "code",
   "execution_count": null,
   "metadata": {
    "collapsed": true
   },
   "outputs": [],
   "source": [
    "driver = webdriver.Chrome(r'D:\\pyLadies\\2018_0805_nmnsCrawler\\chromedriver.exe')\n",
    "totalDays = 3"
   ]
  },
  {
   "cell_type": "code",
   "execution_count": null,
   "metadata": {
    "collapsed": false
   },
   "outputs": [],
   "source": [
    "# method : get the clean URLs, and put in url_dict{}\n",
    "def findURL(xpath,attribute):\n",
    "    images = driver.find_elements_by_xpath(xpath)\n",
    "    index = 0 #圖片張數計算\n",
    "\n",
    "    for image in images:\n",
    "        tagContent = image.get_attribute(attribute)\n",
    "        \n",
    "        if tagContent.find('\\\"') != -1: tagContent = tagContent.split('\\\"')[-1]\n",
    "            # ↑split the string if it comes from attribute \"style\"\n",
    "        else: pass\n",
    "\n",
    "        if tagContent.find(\"https://\") != -1:\n",
    "            index += 1\n",
    "            url = tagContent.split('\\\"')[0]\n",
    "            # ↑split to get clear url from attribute \"style\"\n",
    "            if url not in url_dict:\n",
    "                url_dict[url] = \"Day\" + str(day) + \"_\" + str(index).zfill(3) + \".jpg\"\n",
    "            else:\n",
    "                pass\n",
    "        else:\n",
    "            return False"
   ]
  },
  {
   "cell_type": "code",
   "execution_count": null,
   "metadata": {
    "collapsed": false
   },
   "outputs": [],
   "source": [
    "# main\n",
    "if localtime > urlInvalidDate: # check the date, future/now is larger than past\n",
    "    print(\"相簿已逾期！請手動確認檔案是否仍存在。\")\n",
    "else:\n",
    "    for day in range(1,totalDays+1): # get the url of the day\n",
    "        urlDay = 'http://www.nmns.edu.tw/web/learn/feature/photo.htm?id={idNo}'.format(idNo=12+day)\n",
    "             # ↑url of day 1 = http://www.nmns.edu.tw/web/learn/feature/photo.htm?id=13\n",
    "        driver.get(urlDay)\n",
    "\n",
    "        for xpath,attribute in  xpath_attribute.items(): # get url from xpath\n",
    "            if findURL(xpath,attribute) != False:\n",
    "                print(\"Day\",day,\"取得網址！\",\"目前字典長度:\",len(url_dict))\n",
    "            else:\n",
    "                print( \"注意：「\", xpath, \" + \", attribute, \"」的組合失敗。\" )\n",
    "                  \n",
    "    for key,value in url_dict.items(): #download images from url,and save in file name\n",
    "#        print(key,value)\n",
    "        ssl._create_default_https_context = ssl._create_unverified_context\n",
    "            # ↑ to pass the SSL certificate verify\n",
    "        resource = urllib.request.urlopen(key)\n",
    "        output = open(value,\"wb\") # write binary\n",
    "        output.write(resource.read())\n",
    "        output.close()\n",
    "    print(\"下載結束\")"
   ]
  },
  {
   "cell_type": "markdown",
   "metadata": {},
   "source": [
    "注意：「 //div[@data-swiper-slide-index]  +  style 」的組合失敗。  \n",
    "Day 1 取得網址！ 目前字典長度: 85  \n",
    "注意：「 //div[@data-swiper-slide-index]  +  style 」的組合失敗。  \n",
    "Day 2 取得網址！ 目前字典長度: 363  \n",
    "注意：「 //div[@data-swiper-slide-index]  +  style 」的組合失敗。  \n",
    "Day 3 取得網址！ 目前字典長度: 475  \n",
    "下載結束"
   ]
  },
  {
   "cell_type": "code",
   "execution_count": null,
   "metadata": {
    "collapsed": false
   },
   "outputs": [],
   "source": [
    "driver.close()"
   ]
  }
 ],
 "metadata": {
  "anaconda-cloud": {},
  "kernelspec": {
   "display_name": "Python [default]",
   "language": "python",
   "name": "python3"
  },
  "language_info": {
   "codemirror_mode": {
    "name": "ipython",
    "version": 3
   },
   "file_extension": ".py",
   "mimetype": "text/x-python",
   "name": "python",
   "nbconvert_exporter": "python",
   "pygments_lexer": "ipython3",
   "version": "3.5.2"
  }
 },
 "nbformat": 4,
 "nbformat_minor": 1
}
