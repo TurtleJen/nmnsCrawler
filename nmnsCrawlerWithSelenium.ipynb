{
 "cells": [
  {
   "cell_type": "code",
   "execution_count": 10,
   "metadata": {
    "collapsed": false
   },
   "outputs": [],
   "source": [
    "import selenium\n",
    "from selenium import webdriver\n",
    "import urllib.request\n",
    "import ssl"
   ]
  },
  {
   "cell_type": "code",
   "execution_count": 11,
   "metadata": {
    "collapsed": false
   },
   "outputs": [],
   "source": [
    "import time\n",
    "# 相簿效期只有3個月，須判斷是否仍在效期內。（上傳日期：2018-07-29）\n",
    "\n",
    "localtime = time.localtime(time.time())\n",
    "# time.time() : seconds since 12:00am, January 1, 1970\n",
    "# time.localtime() : show local current time in struct_time\n",
    "# time.asctime() : show time in \"Www Mmm dd hh:mm:ss yyyy\" formate\n",
    "urlInvalidDate = time.strptime(\"2018-10-28 23:59:59\", \"%Y-%m-%d %H:%M:%S\")"
   ]
  },
  {
   "cell_type": "code",
   "execution_count": 12,
   "metadata": {
    "collapsed": false
   },
   "outputs": [],
   "source": [
    "# 圖片網址可能所在之 xpath & attribute 對應\n",
    "xpath_attribute = {\n",
    "    '//div[@data-swiper-slide-index]':'style',\n",
    "    '//div[@data-swiper-slide-index]/img':'src'\n",
    "}\n",
    "\n",
    "# urls to be get\n",
    "url_dict = {}"
   ]
  },
  {
   "cell_type": "code",
   "execution_count": 13,
   "metadata": {
    "collapsed": true
   },
   "outputs": [],
   "source": [
    "driver = webdriver.Chrome(r'D:\\pyLadies\\2018_0805_nmnsCrawler\\chromedriver.exe')\n",
    "totalDays = 3"
   ]
  },
  {
   "cell_type": "code",
   "execution_count": 14,
   "metadata": {
    "collapsed": false
   },
   "outputs": [],
   "source": [
    "# method : get the clean URLs, and put in url_dict{}\n",
    "def findURL(xpath,attribute):\n",
    "    images = driver.find_elements_by_xpath(xpath)\n",
    "    index = 0 #圖片張數計算\n",
    "\n",
    "    for image in images:\n",
    "        tagContent = image.get_attribute(attribute)\n",
    "        \n",
    "        if tagContent.find('\\\"') != -1: tagContent = tagContent.split('\\\"')[-1]\n",
    "            # ↑split the string if it comes from attribute \"style\"\n",
    "        else: pass\n",
    "\n",
    "        if tagContent.find(\"https://\") != -1:\n",
    "            index += 1\n",
    "            url = tagContent.split('\\\"')[0]\n",
    "            # ↑split to get clear url from attribute \"style\"\n",
    "            if url not in url_dict:\n",
    "                url_dict[url] = \"Day\" + str(day) + \"_\" + str(index).zfill(3) + \".jpg\"\n",
    "            else:\n",
    "                pass\n",
    "        else:\n",
    "            return False"
   ]
  },
  {
   "cell_type": "code",
   "execution_count": 15,
   "metadata": {
    "collapsed": false
   },
   "outputs": [
    {
     "name": "stdout",
     "output_type": "stream",
     "text": [
      "注意：「 //div[@data-swiper-slide-index]  +  style 」的組合失敗。\n",
      "Day 1 取得網址！ 目前字典長度: 85\n",
      "注意：「 //div[@data-swiper-slide-index]  +  style 」的組合失敗。\n",
      "Day 2 取得網址！ 目前字典長度: 363\n",
      "注意：「 //div[@data-swiper-slide-index]  +  style 」的組合失敗。\n",
      "Day 3 取得網址！ 目前字典長度: 475\n",
      "下載結束\n"
     ]
    }
   ],
   "source": [
    "# main\n",
    "if localtime > urlInvalidDate: # check the date, future/now is larger than past\n",
    "    print(\"相簿已逾期！請手動確認檔案是否仍存在。\")\n",
    "else:\n",
    "    for day in range(1,totalDays+1): # get the url of the day\n",
    "        urlDay = 'http://www.nmns.edu.tw/web/learn/feature/photo.htm?id={idNo}'.format(idNo=12+day)\n",
    "             # ↑url of day 1 = http://www.nmns.edu.tw/web/learn/feature/photo.htm?id=13\n",
    "        driver.get(urlDay)\n",
    "\n",
    "        for xpath,attribute in  xpath_attribute.items(): # get url from xpath\n",
    "            if findURL(xpath,attribute) != False:\n",
    "                print(\"Day\",day,\"取得網址！\",\"目前字典長度:\",len(url_dict))\n",
    "            else:\n",
    "                print( \"注意：「\", xpath, \" + \", attribute, \"」的組合失敗。\" )\n",
    "                  \n",
    "    for key,value in url_dict.items(): #download images from url,and save in file name\n",
    "#        print(key,value)\n",
    "        ssl._create_default_https_context = ssl._create_unverified_context\n",
    "            # ↑ to pass the SSL certificate verify\n",
    "        resource = urllib.request.urlopen(key)\n",
    "        output = open(value,\"wb\") # write binary\n",
    "        output.write(resource.read())\n",
    "        output.close()\n",
    "    print(\"下載結束\")"
   ]
  },
  {
   "cell_type": "code",
   "execution_count": 16,
   "metadata": {
    "collapsed": false
   },
   "outputs": [],
   "source": [
    "driver.close()"
   ]
  }
 ],
 "metadata": {
  "anaconda-cloud": {},
  "kernelspec": {
   "display_name": "Python [default]",
   "language": "python",
   "name": "python3"
  },
  "language_info": {
   "codemirror_mode": {
    "name": "ipython",
    "version": 3
   },
   "file_extension": ".py",
   "mimetype": "text/x-python",
   "name": "python",
   "nbconvert_exporter": "python",
   "pygments_lexer": "ipython3",
   "version": "3.5.2"
  }
 },
 "nbformat": 4,
 "nbformat_minor": 1
}
